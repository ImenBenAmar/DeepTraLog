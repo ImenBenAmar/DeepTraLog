{
 "cells": [
  {
   "cell_type": "markdown",
   "id": "52b790ec",
   "metadata": {
    "papermill": {
     "duration": 0.010054,
     "end_time": "2025-07-11T14:19:12.950917",
     "exception": false,
     "start_time": "2025-07-11T14:19:12.940863",
     "status": "completed"
    },
    "tags": []
   },
   "source": [
    "# Model Training "
   ]
  },
  {
   "cell_type": "markdown",
   "id": "a39ffd6f",
   "metadata": {
    "papermill": {
     "duration": 0.006652,
     "end_time": "2025-07-11T14:19:12.964066",
     "exception": false,
     "start_time": "2025-07-11T14:19:12.957414",
     "status": "completed"
    },
    "tags": []
   },
   "source": [
    "# edge_attr: 0 = sequence, 1 = sync_req, 2 = sync_resp, 3 = async_req\n"
   ]
  },
  {
   "cell_type": "code",
   "execution_count": 1,
   "id": "1fed0bb4",
   "metadata": {
    "execution": {
     "iopub.execute_input": "2025-07-11T14:19:12.978319Z",
     "iopub.status.busy": "2025-07-11T14:19:12.978006Z",
     "iopub.status.idle": "2025-07-11T14:19:28.964358Z",
     "shell.execute_reply": "2025-07-11T14:19:28.963119Z"
    },
    "papermill": {
     "duration": 15.995288,
     "end_time": "2025-07-11T14:19:28.966332",
     "exception": false,
     "start_time": "2025-07-11T14:19:12.971044",
     "status": "completed"
    },
    "tags": []
   },
   "outputs": [
    {
     "name": "stdout",
     "output_type": "stream",
     "text": [
      "\u001b[2K     \u001b[90m━━━━━━━━━━━━━━━━━━━━━━━━━━━━━━━━━━━━━━━━\u001b[0m \u001b[32m500.4/500.4 kB\u001b[0m \u001b[31m12.8 MB/s\u001b[0m eta \u001b[36m0:00:00\u001b[0m\r\n",
      "\u001b[2K     \u001b[90m━━━━━━━━━━━━━━━━━━━━━━━━━━━━━━━━━━━━━━━━\u001b[0m \u001b[32m1.2/1.2 MB\u001b[0m \u001b[31m22.5 MB/s\u001b[0m eta \u001b[36m0:00:00\u001b[0m\r\n",
      "\u001b[2K     \u001b[90m━━━━━━━━━━━━━━━━━━━━━━━━━━━━━━━━━━━━━━━━\u001b[0m \u001b[32m63.1/63.1 kB\u001b[0m \u001b[31m3.6 MB/s\u001b[0m eta \u001b[36m0:00:00\u001b[0m\r\n",
      "\u001b[2K   \u001b[90m━━━━━━━━━━━━━━━━━━━━━━━━━━━━━━━━━━━━━━━━\u001b[0m \u001b[32m1.1/1.1 MB\u001b[0m \u001b[31m31.1 MB/s\u001b[0m eta \u001b[36m0:00:00\u001b[0m\r\n",
      "\u001b[?25h"
     ]
    }
   ],
   "source": [
    "# Installer PyTorch Geometric sur Kaggle\n",
    "!pip install -q torch-scatter -f https://data.pyg.org/whl/torch-2.1.0+cpu.html\n",
    "!pip install -q torch-sparse -f https://data.pyg.org/whl/torch-2.1.0+cpu.html\n",
    "!pip install -q torch-geometric\n"
   ]
  },
  {
   "cell_type": "code",
   "execution_count": 2,
   "id": "55d5f07f",
   "metadata": {
    "execution": {
     "iopub.execute_input": "2025-07-11T14:19:28.981675Z",
     "iopub.status.busy": "2025-07-11T14:19:28.980569Z",
     "iopub.status.idle": "2025-07-11T14:19:35.783557Z",
     "shell.execute_reply": "2025-07-11T14:19:35.782081Z"
    },
    "papermill": {
     "duration": 6.812886,
     "end_time": "2025-07-11T14:19:35.785962",
     "exception": false,
     "start_time": "2025-07-11T14:19:28.973076",
     "status": "completed"
    },
    "tags": []
   },
   "outputs": [
    {
     "name": "stdout",
     "output_type": "stream",
     "text": [
      "2.6.0+cu124\r\n"
     ]
    }
   ],
   "source": [
    "!python -c \"import torch; print(torch.__version__)\"\n"
   ]
  },
  {
   "cell_type": "code",
   "execution_count": 3,
   "id": "6fb7b1a8",
   "metadata": {
    "execution": {
     "iopub.execute_input": "2025-07-11T14:19:35.800497Z",
     "iopub.status.busy": "2025-07-11T14:19:35.800114Z",
     "iopub.status.idle": "2025-07-11T14:19:37.211496Z",
     "shell.execute_reply": "2025-07-11T14:19:37.210247Z"
    },
    "papermill": {
     "duration": 1.421634,
     "end_time": "2025-07-11T14:19:37.214082",
     "exception": false,
     "start_time": "2025-07-11T14:19:35.792448",
     "status": "completed"
    },
    "tags": []
   },
   "outputs": [
    {
     "name": "stdout",
     "output_type": "stream",
     "text": [
      "Found existing installation: torch-scatter 2.1.2+pt21cpu\r\n",
      "Uninstalling torch-scatter-2.1.2+pt21cpu:\r\n",
      "  Successfully uninstalled torch-scatter-2.1.2+pt21cpu\r\n"
     ]
    }
   ],
   "source": [
    "!pip uninstall -y torch-scatter\n"
   ]
  },
  {
   "cell_type": "code",
   "execution_count": 4,
   "id": "0d9262f5",
   "metadata": {
    "execution": {
     "iopub.execute_input": "2025-07-11T14:19:37.228532Z",
     "iopub.status.busy": "2025-07-11T14:19:37.228157Z",
     "iopub.status.idle": "2025-07-11T14:19:42.087065Z",
     "shell.execute_reply": "2025-07-11T14:19:42.085736Z"
    },
    "papermill": {
     "duration": 4.868485,
     "end_time": "2025-07-11T14:19:42.088981",
     "exception": false,
     "start_time": "2025-07-11T14:19:37.220496",
     "status": "completed"
    },
    "tags": []
   },
   "outputs": [
    {
     "name": "stdout",
     "output_type": "stream",
     "text": [
      "Looking in links: https://data.pyg.org/whl/torch-2.6.0+cu124.html\r\n",
      "Collecting torch-scatter\r\n",
      "  Downloading https://data.pyg.org/whl/torch-2.6.0%2Bcu124/torch_scatter-2.1.2%2Bpt26cu124-cp311-cp311-linux_x86_64.whl (10.8 MB)\r\n",
      "\u001b[2K     \u001b[90m━━━━━━━━━━━━━━━━━━━━━━━━━━━━━━━━━━━━━━━━\u001b[0m \u001b[32m10.8/10.8 MB\u001b[0m \u001b[31m82.2 MB/s\u001b[0m eta \u001b[36m0:00:00\u001b[0m\r\n",
      "\u001b[?25hInstalling collected packages: torch-scatter\r\n",
      "Successfully installed torch-scatter-2.1.2+pt26cu124\r\n"
     ]
    }
   ],
   "source": [
    "!pip install torch-scatter -f https://data.pyg.org/whl/torch-2.6.0+cu124.html\n"
   ]
  },
  {
   "cell_type": "code",
   "execution_count": 5,
   "id": "ec607f7d",
   "metadata": {
    "execution": {
     "iopub.execute_input": "2025-07-11T14:19:42.104114Z",
     "iopub.status.busy": "2025-07-11T14:19:42.103791Z",
     "iopub.status.idle": "2025-07-11T14:19:44.290662Z",
     "shell.execute_reply": "2025-07-11T14:19:44.289441Z"
    },
    "papermill": {
     "duration": 2.19641,
     "end_time": "2025-07-11T14:19:44.292361",
     "exception": false,
     "start_time": "2025-07-11T14:19:42.095951",
     "status": "completed"
    },
    "tags": []
   },
   "outputs": [],
   "source": [
    "from torch_scatter import scatter\n"
   ]
  },
  {
   "cell_type": "markdown",
   "id": "82935a8e",
   "metadata": {
    "papermill": {
     "duration": 0.006393,
     "end_time": "2025-07-11T14:19:44.305540",
     "exception": false,
     "start_time": "2025-07-11T14:19:44.299147",
     "status": "completed"
    },
    "tags": []
   },
   "source": [
    "**debug**"
   ]
  },
  {
   "cell_type": "code",
   "execution_count": 6,
   "id": "cf6b4215",
   "metadata": {
    "execution": {
     "iopub.execute_input": "2025-07-11T14:19:44.320689Z",
     "iopub.status.busy": "2025-07-11T14:19:44.320167Z",
     "iopub.status.idle": "2025-07-11T14:19:55.013614Z",
     "shell.execute_reply": "2025-07-11T14:19:55.012695Z"
    },
    "papermill": {
     "duration": 10.703401,
     "end_time": "2025-07-11T14:19:55.015510",
     "exception": false,
     "start_time": "2025-07-11T14:19:44.312109",
     "status": "completed"
    },
    "tags": []
   },
   "outputs": [
    {
     "name": "stderr",
     "output_type": "stream",
     "text": [
      "/usr/local/lib/python3.11/dist-packages/torch_geometric/typing.py:124: UserWarning: An issue occurred while importing 'torch-sparse'. Disabling its usage. Stacktrace: /usr/local/lib/python3.11/dist-packages/torch_sparse/_version_cpu.so: undefined symbol: _ZN3c1017RegisterOperatorsD1Ev\n",
      "  warnings.warn(f\"An issue occurred while importing 'torch-sparse'. \"\n"
     ]
    }
   ],
   "source": [
    "import torch\n",
    "import torch.nn.functional as F\n",
    "from torch_geometric.data import Data\n",
    "from sklearn.preprocessing import StandardScaler\n",
    "import os\n",
    "import json\n",
    "from tqdm import tqdm\n",
    "import numpy as np\n",
    "import logging\n",
    "\n",
    "# Configure logging\n",
    "logging.basicConfig(level=logging.DEBUG)\n",
    "logger = logging.getLogger()\n",
    "\n",
    "def label_from_error_type(error_type: str) -> int:\n",
    "    return 0 if error_type == 'normal' else 1\n",
    "\n",
    "def json_trace_to_pyg_data(trace: dict, n_edge_types: int = None) -> Data:\n",
    "    scaler = StandardScaler()\n",
    "    node_info = scaler.fit_transform(trace['node_info'])\n",
    "    edge_index = torch.tensor(trace['edge_index'], dtype=torch.long).t().contiguous()\n",
    "    edge_attr_raw = torch.tensor(trace['edge_attr'], dtype=torch.long)\n",
    "\n",
    "    if n_edge_types is None:\n",
    "        n_edge_types = edge_attr_raw.max().item() + 1\n",
    "    elif edge_attr_raw.max().item() >= n_edge_types:\n",
    "        raise ValueError(f\"Invalid edge type: {edge_attr_raw.max().item()} >= {n_edge_types}\")\n",
    "\n",
    "    edge_attr = F.one_hot(edge_attr_raw, num_classes=n_edge_types)\n",
    "    x = torch.tensor(node_info, dtype=torch.float)\n",
    "    y = torch.tensor([label_from_error_type(trace['error_trace_type'])], dtype=torch.long)\n",
    "    return Data(\n",
    "        x=x,\n",
    "        edge_index=edge_index,\n",
    "        edge_attr=edge_attr,\n",
    "        y=y,\n",
    "        trace_id=trace['trace_id'],\n",
    "        error_type=trace['error_trace_type']\n",
    "    )\n",
    "\n",
    "def load_all_graphs(data_dir: str) -> tuple:\n",
    "    dataset = []\n",
    "    max_edge_type = 0\n",
    "    traces = []\n",
    "    for file_name in sorted(os.listdir(data_dir)):\n",
    "        if not file_name.startswith(\"process\") or not file_name.endswith(\".jsons\"):\n",
    "            continue\n",
    "        file_path = os.path.join(data_dir, file_name)\n",
    "        with open(file_path, \"r\") as f:\n",
    "            for line in tqdm(f, desc=f\"Loading {file_name}\"):\n",
    "                try:\n",
    "                    trace = json.loads(line)\n",
    "                    max_edge_type = max(max_edge_type, max(trace['edge_attr']))\n",
    "                    traces.append(trace)\n",
    "                except json.JSONDecodeError:\n",
    "                    print(f\"Skipping corrupted JSON line in {file_name}\")\n",
    "                    continue\n",
    "    n_edge_types = max_edge_type + 1 \n",
    "    print(f\"Detected {n_edge_types} edge types.\")\n",
    "    for trace in traces:\n",
    "        data = json_trace_to_pyg_data(trace, n_edge_types)\n",
    "        dataset.append(data)\n",
    "    return dataset, n_edge_types\n",
    "\n"
   ]
  },
  {
   "cell_type": "code",
   "execution_count": 7,
   "id": "8df9db95",
   "metadata": {
    "execution": {
     "iopub.execute_input": "2025-07-11T14:19:55.031176Z",
     "iopub.status.busy": "2025-07-11T14:19:55.030700Z",
     "iopub.status.idle": "2025-07-11T14:19:55.040368Z",
     "shell.execute_reply": "2025-07-11T14:19:55.039401Z"
    },
    "papermill": {
     "duration": 0.019331,
     "end_time": "2025-07-11T14:19:55.042127",
     "exception": false,
     "start_time": "2025-07-11T14:19:55.022796",
     "status": "completed"
    },
    "tags": []
   },
   "outputs": [],
   "source": [
    "from torch_geometric.loader import DataLoader\n",
    "from torch.utils.data import random_split, Subset\n",
    "import logging\n",
    "import torch\n",
    "\n",
    "logging.basicConfig(level=logging.DEBUG)\n",
    "logger = logging.getLogger()\n",
    "\n",
    "class BaseADDataset:\n",
    "    def __init__(self, root: str):\n",
    "        self.root = root\n",
    "        self.n_classes = 2\n",
    "        self.normal_classes = (0,)\n",
    "        self.outlier_classes = (1,)\n",
    "        self.train_set = None\n",
    "        self.test_set = None\n",
    "\n",
    "    def loaders(self, batch_size: int, shuffle_train=True, shuffle_test=False, num_workers: int = 0):\n",
    "        pass\n",
    "\n",
    "    def __repr__(self):\n",
    "        return self.__class__.__name__\n",
    "\n",
    "class MyGraphDataset(BaseADDataset):\n",
    "    def __init__(self, train_set, test_set, root=''):\n",
    "        super().__init__(root)\n",
    "        self.train_set = train_set\n",
    "        self.test_set = test_set\n",
    "\n",
    "    def loaders(self, batch_size: int, shuffle_train=True, shuffle_test=False, num_workers: int = 0):\n",
    "        train_loader = DataLoader(self.train_set, batch_size=batch_size, shuffle=shuffle_train, \n",
    "                                 num_workers=num_workers, pin_memory=True)\n",
    "        test_loader = DataLoader(self.test_set, batch_size=batch_size, shuffle=shuffle_test, \n",
    "                                num_workers=num_workers, pin_memory=True)\n",
    "        return train_loader, test_loader"
   ]
  },
  {
   "cell_type": "code",
   "execution_count": 8,
   "id": "005a20af",
   "metadata": {
    "execution": {
     "iopub.execute_input": "2025-07-11T14:19:55.058827Z",
     "iopub.status.busy": "2025-07-11T14:19:55.058462Z",
     "iopub.status.idle": "2025-07-11T14:19:55.085064Z",
     "shell.execute_reply": "2025-07-11T14:19:55.084088Z"
    },
    "papermill": {
     "duration": 0.036952,
     "end_time": "2025-07-11T14:19:55.086459",
     "exception": false,
     "start_time": "2025-07-11T14:19:55.049507",
     "status": "completed"
    },
    "tags": []
   },
   "outputs": [],
   "source": [
    "import torch\n",
    "import torch.nn as nn\n",
    "from torch_geometric.utils import to_dense_adj, scatter\n",
    "\n",
    "class AttrProxy:\n",
    "    def __init__(self, module, prefix):\n",
    "        self.module = module\n",
    "        self.prefix = prefix\n",
    "\n",
    "    def __getitem__(self, i):\n",
    "        return getattr(self.module, self.prefix + str(i))\n",
    "\n",
    "class Propogator(nn.Module):\n",
    "    def __init__(self, state_dim, n_edge_types):\n",
    "        super(Propogator, self).__init__()\n",
    "        self.n_edge_types = n_edge_types\n",
    "        self.reset_gate = nn.Sequential(\n",
    "            nn.Linear(state_dim * 3, state_dim),\n",
    "            nn.Sigmoid()\n",
    "        )\n",
    "        self.update_gate = nn.Sequential(\n",
    "            nn.Linear(state_dim * 3, state_dim),\n",
    "            nn.Sigmoid()\n",
    "        )\n",
    "        self.transform = nn.Sequential(\n",
    "            nn.Linear(state_dim * 3, state_dim),\n",
    "            nn.Tanh()\n",
    "        )\n",
    "\n",
    "    def forward(self, state_in, state_out, state_cur, A):\n",
    "        A_in = A[:, :, :A.shape[1] * self.n_edge_types]\n",
    "        A_out = A[:, :, A.shape[1] * self.n_edge_types:]\n",
    "        a_in = torch.bmm(A_in, state_in)\n",
    "        a_out = torch.bmm(A_out, state_out)\n",
    "        a = torch.cat((a_in, a_out, state_cur), dim=2)\n",
    "        r = self.reset_gate(a)\n",
    "        z = self.update_gate(a)\n",
    "        joined_input = torch.cat((a_in, a_out, r * state_cur), dim=2)\n",
    "        h_hat = self.transform(joined_input)\n",
    "        output = (1 - z) * state_cur + z * h_hat\n",
    "        return output\n",
    "\n",
    "class GGNN(nn.Module):\n",
    "    def __init__(self, opt):\n",
    "        super(GGNN, self).__init__()\n",
    "        assert opt.state_dim >= opt.annotation_dim, 'state_dim must be >= annotation_dim'\n",
    "        self.state_dim = opt.state_dim\n",
    "        self.annotation_dim = opt.annotation_dim\n",
    "        self.n_edge_types = opt.n_edge_types\n",
    "        self.n_steps = opt.n_steps\n",
    "\n",
    "        for i in range(self.n_edge_types):\n",
    "            in_fc = nn.Linear(self.state_dim, self.state_dim)\n",
    "            out_fc = nn.Linear(self.state_dim, self.state_dim)\n",
    "            self.add_module(f\"in_{i}\", in_fc)\n",
    "            self.add_module(f\"out_{i}\", out_fc)\n",
    "\n",
    "        self.in_fcs = AttrProxy(self, \"in_\")\n",
    "        self.out_fcs = AttrProxy(self, \"out_\")\n",
    "        self.propogator = Propogator(self.state_dim, self.n_edge_types)\n",
    "        self.out = nn.Sequential(\n",
    "            nn.Linear(self.state_dim + self.annotation_dim, self.state_dim),\n",
    "            nn.Tanh()\n",
    "        )\n",
    "        self.center = nn.Parameter(torch.randn(self.state_dim))\n",
    "        self._initialization()\n",
    "\n",
    "    def _initialization(self):\n",
    "        for m in self.modules():\n",
    "            if isinstance(m, nn.Linear):\n",
    "                m.weight.data.normal_(0.0, 0.02)\n",
    "                m.bias.data.fill_(0)\n",
    "\n",
    "    def forward(self, data):\n",
    "        x = data.x\n",
    "        edge_index = data.edge_index\n",
    "        edge_attr = data.edge_attr\n",
    "        batch = data.batch if hasattr(data, 'batch') else torch.zeros(x.shape[0], dtype=torch.long, device=x.device)\n",
    "\n",
    "        batch_size = data.num_graphs if hasattr(data, 'num_graphs') else 1\n",
    "        node_counts = torch.bincount(batch, minlength=batch_size) if batch.numel() > 0 else torch.tensor([x.shape[0]], device=x.device)\n",
    "        max_nodes = node_counts.max().item() if node_counts.numel() > 0 else x.shape[0]\n",
    "     \n",
    "\n",
    "        if batch.max().item() + 1 > batch_size:\n",
    "            raise ValueError(\"Invalid batch indices\")\n",
    "        if node_counts.sum() != x.shape[0]:\n",
    "            raise ValueError(\"Node count mismatch in batch\")\n",
    "\n",
    "        batch_padded = torch.zeros(batch_size * max_nodes, dtype=torch.long, device=x.device)\n",
    "        node_mask = torch.zeros(batch_size * max_nodes, dtype=torch.bool, device=x.device)\n",
    "        node_idx = 0\n",
    "        for b in range(batch_size):\n",
    "            num_nodes = node_counts[b]\n",
    "            if num_nodes > 0:\n",
    "                batch_padded[node_idx:node_idx + num_nodes] = b\n",
    "                node_mask[node_idx:node_idx + num_nodes] = 1\n",
    "                node_idx += num_nodes\n",
    "       \n",
    "\n",
    "        prop_state = torch.zeros(batch_size, max_nodes, self.state_dim, device=x.device)\n",
    "\n",
    "        state = torch.zeros(batch_size, max_nodes, self.annotation_dim, device=x.device)\n",
    "        node_idx = 0\n",
    "        for b in range(batch_size):\n",
    "            num_nodes = node_counts[b]\n",
    "            if num_nodes > 0:\n",
    "                state[b, :num_nodes] = x[node_idx:node_idx + num_nodes]\n",
    "                node_idx += num_nodes\n",
    "\n",
    "        A = self._to_adj_matrix(edge_index, edge_attr, batch, max_nodes)\n",
    "\n",
    "        for i_step in range(self.n_steps):\n",
    "            in_states = []\n",
    "            out_states = []\n",
    "            for i in range(self.n_edge_types):\n",
    "                in_states.append(self.in_fcs[i](prop_state))\n",
    "                out_states.append(self.out_fcs[i](prop_state))\n",
    "            in_states = torch.stack(in_states, dim=2)\n",
    "            out_states = torch.stack(out_states, dim=2)\n",
    "            in_states = in_states.view(batch_size, max_nodes * self.n_edge_types, self.state_dim)\n",
    "            out_states = out_states.view(batch_size, max_nodes * self.n_edge_types, self.state_dim)\n",
    "            prop_state = self.propogator(in_states, out_states, prop_state, A)\n",
    "\n",
    "        join_state = torch.cat((prop_state, state), dim=2)\n",
    "        output = self.out(join_state)\n",
    "\n",
    "        output_flat = output.view(-1, self.state_dim)\n",
    "\n",
    "        output = scatter(output_flat[node_mask], batch_padded[node_mask], dim=0, dim_size=batch_size, reduce=\"mean\")\n",
    "        return output\n",
    "\n",
    "    def _to_adj_matrix(self, edge_index, edge_attr, batch, max_nodes):\n",
    "        batch_size = batch.max().item() + 1 if batch.numel() > 0 else 1\n",
    "        A = torch.zeros(batch_size, max_nodes, max_nodes * self.n_edge_types * 2, device=edge_index.device)\n",
    "        for b in range(batch_size):\n",
    "            mask = batch == b\n",
    "            edge_mask = mask[edge_index[0]] & mask[edge_index[1]]\n",
    "            b_edge_index = edge_index[:, edge_mask]\n",
    "            b_edge_attr = edge_attr[edge_mask]\n",
    "            if b_edge_index.numel() == 0:\n",
    "                continue\n",
    "            b_edge_index = b_edge_index - b_edge_index.min()\n",
    "            for edge_type in range(self.n_edge_types):\n",
    "                type_mask = b_edge_attr[:, edge_type].bool()\n",
    "                type_edges = b_edge_index[:, type_mask]\n",
    "                if type_edges.shape[1] > 0:\n",
    "                    A_in = to_dense_adj(type_edges, max_num_nodes=max_nodes).squeeze(0)\n",
    "                    A[b, :, edge_type * max_nodes:(edge_type + 1) * max_nodes] = A_in\n",
    "                    A_out = to_dense_adj(type_edges.flip(0), max_num_nodes=max_nodes).squeeze(0)\n",
    "                    A[b, :, (self.n_edge_types + edge_type) * max_nodes:(self.n_edge_types + edge_type + 1) * max_nodes] = A_out\n",
    "        return A\n"
   ]
  },
  {
   "cell_type": "code",
   "execution_count": 9,
   "id": "ec4c7911",
   "metadata": {
    "execution": {
     "iopub.execute_input": "2025-07-11T14:19:55.101888Z",
     "iopub.status.busy": "2025-07-11T14:19:55.101498Z",
     "iopub.status.idle": "2025-07-11T14:19:55.228288Z",
     "shell.execute_reply": "2025-07-11T14:19:55.227342Z"
    },
    "papermill": {
     "duration": 0.136888,
     "end_time": "2025-07-11T14:19:55.230107",
     "exception": false,
     "start_time": "2025-07-11T14:19:55.093219",
     "status": "completed"
    },
    "tags": []
   },
   "outputs": [],
   "source": [
    "import torch\n",
    "import torch.optim as optim\n",
    "from sklearn.metrics import roc_auc_score, precision_score, recall_score, f1_score, accuracy_score\n",
    "import numpy as np\n",
    "import time\n",
    "from torch.utils.data import Subset, DataLoader\n",
    "\n",
    "class DeepSVDDTrainer:\n",
    "    def __init__(self, objective, R, c, nu: float, optimizer_name: str = 'adam', \n",
    "                 lr: float = 0.001, n_epochs: int = 150, lr_milestones: tuple = (), \n",
    "                 batch_size: int = 128, weight_decay: float = 1e-6, device: str = 'cuda', \n",
    "                 n_jobs_dataloader: int = 0):\n",
    "        assert objective in ('one-class', 'soft-boundary'), f\"Invalid objective: {objective}\"\n",
    "        self.objective = objective\n",
    "        self.R = torch.tensor(R, device=device) if R is not None else torch.tensor(0.0, device=device)\n",
    "        self.c = torch.tensor(c, device=device) if c is not None else None\n",
    "        self.nu = nu\n",
    "        self.optimizer_name = optimizer_name\n",
    "        self.lr = lr\n",
    "        self.n_epochs = n_epochs\n",
    "        self.lr_milestones = lr_milestones\n",
    "        self.batch_size = batch_size\n",
    "        self.weight_decay = weight_decay\n",
    "        self.device = device\n",
    "        self.n_jobs_dataloader = n_jobs_dataloader\n",
    "        self.warm_up_n_epochs = 6\n",
    "        self.train_time = None\n",
    "        self.test_auc = None\n",
    "        self.test_time = None\n",
    "        self.test_scores = None\n",
    "        self.y_val_pred = None\n",
    "\n",
    "    def train(self, dataset, net):\n",
    "        net = net.to(self.device)\n",
    "        train_loader, _ = dataset.loaders(batch_size=self.batch_size, num_workers=self.n_jobs_dataloader)\n",
    "        optimizer = optim.Adam(net.parameters(), lr=self.lr, weight_decay=self.weight_decay,\n",
    "                              amsgrad=self.optimizer_name == 'amsgrad')\n",
    "        scheduler = optim.lr_scheduler.MultiStepLR(optimizer, milestones=self.lr_milestones, gamma=0.1)\n",
    "\n",
    "        if self.c is None:\n",
    "            print('INFO: Initializing center c...')\n",
    "            self.c = self.init_center_c(train_loader, net)\n",
    "\n",
    "        print('INFO: Starting training...')\n",
    "        start_time = time.time()\n",
    "        net.train()\n",
    "        # Ajout de tqdm pour la barre de progression\n",
    "        for epoch in tqdm(range(self.n_epochs), desc=\"Training Epochs\", unit=\"epoch\"):\n",
    "            scheduler.step()\n",
    "            if epoch in self.lr_milestones:\n",
    "                print(f'INFO:   LR scheduler: new learning rate is {scheduler.get_last_lr()[0]:g}')\n",
    "            loss_epoch = 0.0\n",
    "            n_batches = 0\n",
    "            epoch_start_time = time.time()\n",
    "            for batch_idx, batch in enumerate(train_loader):\n",
    "                batch = batch.to(self.device)\n",
    "                \n",
    "                optimizer.zero_grad()\n",
    "                outputs = net(batch)\n",
    "                if outputs.shape != (batch.num_graphs, net.state_dim):\n",
    "                    print(f\"ERROR: Unexpected output shape: {outputs.shape} != [{batch.num_graphs}, {net.state_dim}]\")\n",
    "                    raise ValueError(\"Output shape mismatch\")\n",
    "                if torch.isnan(outputs).any() or torch.isinf(outputs).any():\n",
    "                    print(\"ERROR: NaN or Inf in outputs\")\n",
    "                    raise ValueError(\"Invalid outputs\")\n",
    "                dist = torch.sum((outputs - self.c) ** 2, dim=1)\n",
    "                if self.objective == 'soft-boundary':\n",
    "                    scores = dist - self.R ** 2\n",
    "                    loss = self.R ** 2 + (1 / self.nu) * torch.mean(torch.max(torch.zeros_like(scores), scores))\n",
    "                else:\n",
    "                    loss = torch.mean(dist)\n",
    "                loss.backward()\n",
    "                torch.nn.utils.clip_grad_norm_(net.parameters(), max_norm=1.0)\n",
    "                optimizer.step()\n",
    "                if self.objective == 'soft-boundary' and epoch >= self.warm_up_n_epochs:\n",
    "                    self.R.data = torch.tensor(self.get_radius(dist, self.nu), device=self.device)\n",
    "                loss_epoch += loss.item()\n",
    "                n_batches += 1\n",
    "            epoch_train_time = time.time() - epoch_start_time\n",
    "            # Mise à jour de la barre de progression avec loss et R\n",
    "            tqdm.write(f'Epoch {epoch + 1}/{self.n_epochs}\\t Time: {epoch_train_time:.3f}\\t Loss: {loss_epoch / n_batches:.8f}\\t R: {self.R:.4f}')\n",
    "\n",
    "        self.train_time = time.time() - start_time\n",
    "        print(f'INFO: Training time: {self.train_time:.3f}')\n",
    "        return net\n",
    "        \n",
    "    def test(self, dataset, net):\n",
    "        net = net.to(self.device)\n",
    "        if self.c is None:\n",
    "            print('INFO: Center c is None, initializing before testing...')\n",
    "            train_loader, _ = dataset.loaders(batch_size=self.batch_size, num_workers=self.n_jobs_dataloader)\n",
    "            self.c = self.init_center_c(train_loader, net)\n",
    "        \n",
    "        _, test_loader = dataset.loaders(batch_size=self.batch_size, shuffle_test=False, \n",
    "                                         num_workers=self.n_jobs_dataloader)\n",
    "        print('INFO: Starting testing...')\n",
    "        start_time = time.time()\n",
    "        idx_label_score = []\n",
    "        net.eval()\n",
    "        with torch.no_grad():\n",
    "            for batch_idx, batch in enumerate(test_loader):\n",
    "                batch = batch.to(self.device)\n",
    "                outputs = net(batch)\n",
    "                if outputs.shape != (batch.num_graphs, net.state_dim):\n",
    "                    print(f\"ERROR: Unexpected output shape: {outputs.shape} != [{batch.num_graphs}, {net.state_dim}]\")\n",
    "                    raise ValueError(\"Output shape mismatch\")\n",
    "                if torch.isnan(outputs).any() or torch.isinf(outputs).any():\n",
    "                    print(\"ERROR: NaN or Inf in outputs\")\n",
    "                    raise ValueError(\"Invalid outputs\")\n",
    "                labels = batch.y\n",
    "                trace_ids = batch.trace_id\n",
    "                error_types = batch.error_type\n",
    "                dist = torch.sum((outputs - self.c) ** 2, dim=1)\n",
    "                scores = dist - self.R ** 2 if self.objective == 'soft-boundary' else dist\n",
    "                idx_label_score += list(zip(trace_ids, labels.cpu().numpy().tolist(),\n",
    "                                            scores.cpu().numpy().tolist(), error_types))\n",
    "\n",
    "        self.test_time = time.time() - start_time\n",
    "        print(f'INFO: Testing time: {self.test_time:.3f}')\n",
    "        trace_ids, labels, scores, error_types = zip(*idx_label_score)\n",
    "        labels = np.array(labels)\n",
    "        scores = np.array(scores)\n",
    "        print(f\"DEBUG: Labels shape: {labels.shape}, Scores shape: {scores.shape}, Labels unique: {np.unique(labels, return_counts=True)}\")\n",
    "\n",
    "        try:\n",
    "            self.test_auc = roc_auc_score(labels, scores)\n",
    "            print(f'INFO: Test set AUC: {100. * self.test_auc:.2f}%')\n",
    "        except ValueError as e:\n",
    "            print(f\"ERROR: ROC AUC computation failed: {e}\")\n",
    "            self.test_auc = 0.0\n",
    "\n",
    "        y_pred = (scores > np.quantile(scores, 1 - self.nu)).astype(int)\n",
    "        self.y_val_pred = y_pred\n",
    "        precision = precision_score(labels, y_pred, zero_division=0)\n",
    "        recall = recall_score(labels, y_pred, zero_division=0)\n",
    "        f1 = f1_score(labels, y_pred, zero_division=0)\n",
    "        accuracy = accuracy_score(labels, y_pred)\n",
    "        print(f'INFO: Accuracy: {accuracy:.4f}, Precision: {precision:.4f}, Recall: {recall:.4f}, F1-Score: {f1:.4f}')\n",
    "        return y_pred, f1, precision, recall, accuracy, scores\n",
    "\n",
    "    def init_center_c(self, train_loader, net, eps=0.1):\n",
    "        n_samples = 0\n",
    "        c = torch.zeros(net.state_dim, device=self.device)\n",
    "        net.eval()\n",
    "        with torch.no_grad():\n",
    "            for batch_idx, batch in enumerate(train_loader):\n",
    "                batch = batch.to(self.device)\n",
    "                outputs = net(batch)\n",
    "                if outputs.shape != (batch.num_graphs, net.state_dim):\n",
    "                    print(f\"ERROR: Unexpected output shape: {outputs.shape} != [{batch.num_graphs}, {net.state_dim}]\")\n",
    "                    raise ValueError(\"Output shape mismatch\")\n",
    "                n_samples += outputs.shape[0]\n",
    "                c += torch.sum(outputs, dim=0)\n",
    "        c /= n_samples\n",
    "        c[(abs(c) < eps) & (c < 0)] = -eps\n",
    "        c[(abs(c) < eps) & (c > 0)] = eps\n",
    "        return c\n",
    "\n",
    "    def get_radius(self, dist: torch.Tensor, nu: float):\n",
    "        return np.quantile(np.sqrt(dist.clone().detach().cpu().numpy()), 1 - nu)"
   ]
  },
  {
   "cell_type": "code",
   "execution_count": 10,
   "id": "8107a943",
   "metadata": {
    "execution": {
     "iopub.execute_input": "2025-07-11T14:19:55.245452Z",
     "iopub.status.busy": "2025-07-11T14:19:55.245116Z",
     "iopub.status.idle": "2025-07-11T14:19:55.259871Z",
     "shell.execute_reply": "2025-07-11T14:19:55.258920Z"
    },
    "papermill": {
     "duration": 0.024392,
     "end_time": "2025-07-11T14:19:55.261423",
     "exception": false,
     "start_time": "2025-07-11T14:19:55.237031",
     "status": "completed"
    },
    "tags": []
   },
   "outputs": [],
   "source": [
    "import torch\n",
    "from torch_geometric.loader import DataLoader\n",
    "from torch.utils.data import Subset\n",
    "import numpy as np\n",
    "import matplotlib.pyplot as plt\n",
    "from sklearn.metrics import roc_curve\n",
    "import json\n",
    "\n",
    "\n",
    "# Define DeepSVDD class (as provided)\n",
    "class DeepSVDD:\n",
    "    def __init__(self, opt):\n",
    "        self.objective = 'soft-boundary'\n",
    "        assert (0 < opt.nu <= 1), \"For hyperparameter nu, it must hold: 0 < nu <= 1.\"\n",
    "        self.nu = opt.nu\n",
    "        self.R = 0.0\n",
    "        self.c = None\n",
    "        self.opt = opt\n",
    "        self.net = None\n",
    "        self.trainer = None\n",
    "        self.optimizer_name = None\n",
    "        self.results = {\n",
    "            'train_time': None,\n",
    "            'test_auc': None,\n",
    "            'test_time': None,\n",
    "            'test_scores': None,\n",
    "            'accuracy': None,\n",
    "            'precision': None,\n",
    "            'recall': None,\n",
    "            'f1_score': None,\n",
    "        }\n",
    "\n",
    "    def set_network(self, net):\n",
    "        self.net = net\n",
    "\n",
    "    def train(self, dataset, optimizer_name: str = 'adam', lr: float = 0.001, n_epochs: int = 50, \n",
    "              lr_milestones: tuple = (), batch_size: int = 128, weight_decay: float = 1e-6, \n",
    "              device: str = 'cuda', n_jobs_dataloader: int = 0):\n",
    "        self.optimizer_name = optimizer_name\n",
    "        self.trainer = DeepSVDDTrainer(\n",
    "            objective=self.objective,\n",
    "            R=self.R,\n",
    "            c=self.c,\n",
    "            nu=self.nu,\n",
    "            optimizer_name=optimizer_name,\n",
    "            lr=lr,\n",
    "            n_epochs=n_epochs,\n",
    "            lr_milestones=lr_milestones,\n",
    "            batch_size=batch_size,\n",
    "            weight_decay=weight_decay,\n",
    "            device=device,\n",
    "            n_jobs_dataloader=n_jobs_dataloader\n",
    "        )\n",
    "        self.net = self.trainer.train(dataset, self.net)\n",
    "        self.R = float(self.trainer.R.cpu().numpy())\n",
    "        self.c = self.trainer.c.cpu().numpy().tolist()\n",
    "        self.results['train_time'] = self.trainer.train_time\n",
    "\n",
    "    def test(self, dataset, device: str = 'cuda', n_jobs_dataloader: int = 0):\n",
    "        if self.trainer is None:\n",
    "            self.trainer = DeepSVDDTrainer(\n",
    "                objective=self.objective,\n",
    "                R=self.R,\n",
    "                c=self.c,\n",
    "                nu=self.nu,\n",
    "                device=device,\n",
    "                n_jobs_dataloader=n_jobs_dataloader\n",
    "            )\n",
    "        y_pred, f1_score_val, precision_score_val, recall_score_val, accuracy_val, scores = self.trainer.test(dataset, self.net)\n",
    "        self.results['test_auc'] = self.trainer.test_auc\n",
    "        self.results['test_time'] = self.trainer.test_time\n",
    "        self.results['test_scores'] = self.trainer.test_scores\n",
    "        self.results['accuracy'] = accuracy_val\n",
    "        self.results['precision'] = precision_score_val\n",
    "        self.results['recall'] = recall_score_val\n",
    "        self.results['f1_score'] = f1_score_val\n",
    "        return y_pred, f1_score_val, precision_score_val, recall_score_val, accuracy_val, scores\n",
    "\n",
    "    def save_model(self, export_model):\n",
    "        net_dict = self.net.state_dict()\n",
    "        torch.save({\n",
    "            'R': self.R,\n",
    "            'c': self.c,\n",
    "            'net_dict': net_dict,\n",
    "        }, export_model)\n",
    "\n",
    "    def save_results(self, export_json):\n",
    "        with open(export_json, 'w') as fp:\n",
    "            json.dump(self.results, fp)\n",
    "\n",
    "    def load_model(self, model_path):\n",
    "        model_dict = torch.load(model_path)\n",
    "        self.R = model_dict['R']\n",
    "        self.c = model_dict['c']\n",
    "        self.net.load_state_dict(model_dict['net_dict'])\n",
    "\n"
   ]
  },
  {
   "cell_type": "code",
   "execution_count": 11,
   "id": "8cf22dab",
   "metadata": {
    "execution": {
     "iopub.execute_input": "2025-07-11T14:19:55.276244Z",
     "iopub.status.busy": "2025-07-11T14:19:55.275903Z",
     "iopub.status.idle": "2025-07-11T14:24:03.193820Z",
     "shell.execute_reply": "2025-07-11T14:24:03.192659Z"
    },
    "papermill": {
     "duration": 247.952516,
     "end_time": "2025-07-11T14:24:03.220749",
     "exception": false,
     "start_time": "2025-07-11T14:19:55.268233",
     "status": "completed"
    },
    "tags": []
   },
   "outputs": [
    {
     "name": "stderr",
     "output_type": "stream",
     "text": [
      "Loading process0.jsons: 16559it [00:12, 1342.14it/s]\n",
      "Loading process1.jsons: 16561it [00:10, 1506.85it/s]\n",
      "Loading process2.jsons: 16561it [00:11, 1438.92it/s]\n",
      "Loading process3.jsons: 16561it [00:10, 1637.32it/s]\n",
      "Loading process4.jsons: 16561it [00:10, 1557.33it/s]\n",
      "Loading process5.jsons: 16561it [00:11, 1415.37it/s]\n",
      "Loading process6.jsons: 16561it [00:12, 1286.28it/s]\n",
      "Loading process7.jsons: 16560it [00:06, 2455.87it/s]\n"
     ]
    },
    {
     "name": "stdout",
     "output_type": "stream",
     "text": [
      "Detected 4 edge types.\n",
      "[INFO] Loaded 132485 graphs with 4 edge types.\n"
     ]
    }
   ],
   "source": [
    "# Set random seed\n",
    "torch.manual_seed(42)\n",
    "np.random.seed(42)\n",
    "\n",
    "# Load dataset\n",
    "data_dir = \"/kaggle/input/graphdata/graph_data/raw\"\n",
    "dataset, n_edge_types = load_all_graphs(data_dir)\n",
    "print(f\"[INFO] Loaded {len(dataset)} graphs with {n_edge_types} edge types.\")"
   ]
  },
  {
   "cell_type": "code",
   "execution_count": 12,
   "id": "37c3d2b8",
   "metadata": {
    "execution": {
     "iopub.execute_input": "2025-07-11T14:24:03.275408Z",
     "iopub.status.busy": "2025-07-11T14:24:03.274499Z",
     "iopub.status.idle": "2025-07-11T14:24:03.752075Z",
     "shell.execute_reply": "2025-07-11T14:24:03.751034Z"
    },
    "papermill": {
     "duration": 0.506785,
     "end_time": "2025-07-11T14:24:03.753772",
     "exception": false,
     "start_time": "2025-07-11T14:24:03.246987",
     "status": "completed"
    },
    "tags": []
   },
   "outputs": [
    {
     "name": "stdout",
     "output_type": "stream",
     "text": [
      "109151\n",
      "23334\n",
      "[INFO] Train set size: 10000, Test set size: 5000\n"
     ]
    }
   ],
   "source": [
    "# Split dataset\n",
    "normal_graphs = [d for d in dataset if d.y.item() == 0]\n",
    "anomaly_graphs = [d for d in dataset if d.y.item() == 1]\n",
    "np.random.seed(42)\n",
    "np.random.shuffle(normal_graphs)\n",
    "np.random.shuffle(anomaly_graphs)\n",
    "\n",
    "train_set = normal_graphs[:10000]\n",
    "test_set = normal_graphs[10000:12500] + anomaly_graphs[:2500]\n",
    "\n",
    "# train_size = int(0.8 * len(normal_graphs))\n",
    "# test_size = len(normal_graphs) - train_size\n",
    "# train_set, test_normal = random_split(normal_graphs, [train_size, test_size])\n",
    "# test_set = list(test_normal) + anomaly_graphs\n",
    "\n",
    "my_dataset = MyGraphDataset(train_set, test_set)\n",
    "print(len(normal_graphs))\n",
    "print(len(anomaly_graphs))\n",
    "print(f\"[INFO] Train set size: {len(train_set)}, Test set size: {len(test_set)}\")\n"
   ]
  },
  {
   "cell_type": "code",
   "execution_count": 13,
   "id": "e04c3f15",
   "metadata": {
    "execution": {
     "iopub.execute_input": "2025-07-11T14:24:03.808178Z",
     "iopub.status.busy": "2025-07-11T14:24:03.807835Z",
     "iopub.status.idle": "2025-07-11T14:24:03.900491Z",
     "shell.execute_reply": "2025-07-11T14:24:03.899534Z"
    },
    "papermill": {
     "duration": 0.121826,
     "end_time": "2025-07-11T14:24:03.902097",
     "exception": false,
     "start_time": "2025-07-11T14:24:03.780271",
     "status": "completed"
    },
    "tags": []
   },
   "outputs": [
    {
     "name": "stdout",
     "output_type": "stream",
     "text": [
      "[INFO] Train set labels: (array([0]), array([10000]))\n",
      "[INFO] Train set node counts (first 10): [157, 4, 27, 11, 173, 26, 7, 27, 10, 28]\n",
      "[INFO] Test set labels: (array([0, 1]), array([2500, 2500]))\n",
      "[INFO] Test set node counts (first 10): [311, 4, 173, 378, 10, 550, 311, 6, 378, 27]\n"
     ]
    }
   ],
   "source": [
    "# Log dataset details\n",
    "train_labels = [d.y.item() for d in train_set]\n",
    "train_node_counts = [d.x.shape[0] for d in train_set]\n",
    "print(f\"[INFO] Train set labels: {np.unique(train_labels, return_counts=True)}\")\n",
    "print(f\"[INFO] Train set node counts (first 10): {train_node_counts[:10]}\")\n",
    "test_labels = [d.y.item() for d in test_set]\n",
    "test_node_counts = [d.x.shape[0] for d in test_set]\n",
    "print(f\"[INFO] Test set labels: {np.unique(test_labels, return_counts=True)}\")\n",
    "print(f\"[INFO] Test set node counts (first 10): {test_node_counts[:10]}\")\n"
   ]
  },
  {
   "cell_type": "code",
   "execution_count": 14,
   "id": "ffa59979",
   "metadata": {
    "execution": {
     "iopub.execute_input": "2025-07-11T14:24:03.958077Z",
     "iopub.status.busy": "2025-07-11T14:24:03.957765Z",
     "iopub.status.idle": "2025-07-11T14:24:03.963860Z",
     "shell.execute_reply": "2025-07-11T14:24:03.962963Z"
    },
    "papermill": {
     "duration": 0.036493,
     "end_time": "2025-07-11T14:24:03.965542",
     "exception": false,
     "start_time": "2025-07-11T14:24:03.929049",
     "status": "completed"
    },
    "tags": []
   },
   "outputs": [],
   "source": [
    "# Configuration\n",
    "class Opt:\n",
    "    def __init__(self, n_edge_types=4):\n",
    "        self.state_dim = 32\n",
    "        self.annotation_dim = 7\n",
    "        self.n_edge_types = n_edge_types\n",
    "        self.n_steps = 5\n",
    "        self.device = 'cuda' if torch.cuda.is_available() else 'cpu'\n",
    "        self.nu = 0.1\n",
    "        self.lr = 0.001\n",
    "        self.n_epochs = 30\n",
    "        self.batch_size = 128\n",
    "        self.weight_decay = 1e-6"
   ]
  },
  {
   "cell_type": "code",
   "execution_count": 15,
   "id": "6ba421af",
   "metadata": {
    "execution": {
     "iopub.execute_input": "2025-07-11T14:24:04.080047Z",
     "iopub.status.busy": "2025-07-11T14:24:04.079127Z",
     "iopub.status.idle": "2025-07-11T21:00:26.789573Z",
     "shell.execute_reply": "2025-07-11T21:00:26.786821Z"
    },
    "papermill": {
     "duration": 23782.833346,
     "end_time": "2025-07-11T21:00:26.825952",
     "exception": false,
     "start_time": "2025-07-11T14:24:03.992606",
     "status": "completed"
    },
    "tags": []
   },
   "outputs": [
    {
     "name": "stdout",
     "output_type": "stream",
     "text": [
      "[INFO] Starting training...\n",
      "INFO: Initializing center c...\n",
      "INFO: Starting training...\n"
     ]
    },
    {
     "name": "stderr",
     "output_type": "stream",
     "text": [
      "Training Epochs:   0%|          | 0/30 [00:00<?, ?epoch/s]/usr/local/lib/python3.11/dist-packages/torch/optim/lr_scheduler.py:227: UserWarning: Detected call of `lr_scheduler.step()` before `optimizer.step()`. In PyTorch 1.1.0 and later, you should call them in the opposite order: `optimizer.step()` before `lr_scheduler.step()`.  Failure to do this will result in PyTorch skipping the first value of the learning rate schedule. See more details at https://pytorch.org/docs/stable/optim.html#how-to-adjust-learning-rate\n",
      "  warnings.warn(\n",
      "Training Epochs:   3%|▎         | 1/30 [13:10<6:21:59, 790.32s/epoch]"
     ]
    },
    {
     "name": "stdout",
     "output_type": "stream",
     "text": [
      "Epoch 1/30\t Time: 790.308\t Loss: 0.68339587\t R: 0.0000\n"
     ]
    },
    {
     "name": "stderr",
     "output_type": "stream",
     "text": [
      "Training Epochs:   7%|▋         | 2/30 [26:17<6:07:57, 788.47s/epoch]"
     ]
    },
    {
     "name": "stdout",
     "output_type": "stream",
     "text": [
      "Epoch 2/30\t Time: 787.167\t Loss: 0.00006242\t R: 0.0000\n"
     ]
    },
    {
     "name": "stderr",
     "output_type": "stream",
     "text": [
      "Training Epochs:  10%|█         | 3/30 [39:17<5:53:05, 784.67s/epoch]"
     ]
    },
    {
     "name": "stdout",
     "output_type": "stream",
     "text": [
      "Epoch 3/30\t Time: 780.136\t Loss: 0.00000525\t R: 0.0000\n"
     ]
    },
    {
     "name": "stderr",
     "output_type": "stream",
     "text": [
      "Training Epochs:  13%|█▎        | 4/30 [52:17<5:39:10, 782.70s/epoch]"
     ]
    },
    {
     "name": "stdout",
     "output_type": "stream",
     "text": [
      "Epoch 4/30\t Time: 779.677\t Loss: 0.00000487\t R: 0.0000\n"
     ]
    },
    {
     "name": "stderr",
     "output_type": "stream",
     "text": [
      "Training Epochs:  17%|█▋        | 5/30 [1:04:57<5:22:47, 774.70s/epoch]"
     ]
    },
    {
     "name": "stdout",
     "output_type": "stream",
     "text": [
      "Epoch 5/30\t Time: 760.502\t Loss: 0.00000399\t R: 0.0000\n"
     ]
    },
    {
     "name": "stderr",
     "output_type": "stream",
     "text": [
      "Training Epochs:  20%|██        | 6/30 [1:17:49<5:09:26, 773.60s/epoch]"
     ]
    },
    {
     "name": "stdout",
     "output_type": "stream",
     "text": [
      "Epoch 6/30\t Time: 771.457\t Loss: 0.00000635\t R: 0.0000\n"
     ]
    },
    {
     "name": "stderr",
     "output_type": "stream",
     "text": [
      "Training Epochs:  23%|██▎       | 7/30 [1:30:33<4:55:23, 770.59s/epoch]"
     ]
    },
    {
     "name": "stdout",
     "output_type": "stream",
     "text": [
      "Epoch 7/30\t Time: 764.408\t Loss: 0.00000620\t R: 0.0012\n"
     ]
    },
    {
     "name": "stderr",
     "output_type": "stream",
     "text": [
      "Training Epochs:  27%|██▋       | 8/30 [1:43:22<4:42:18, 769.93s/epoch]"
     ]
    },
    {
     "name": "stdout",
     "output_type": "stream",
     "text": [
      "Epoch 8/30\t Time: 768.500\t Loss: 0.00000403\t R: 0.0027\n"
     ]
    },
    {
     "name": "stderr",
     "output_type": "stream",
     "text": [
      "Training Epochs:  30%|███       | 9/30 [1:56:15<4:29:50, 770.99s/epoch]"
     ]
    },
    {
     "name": "stdout",
     "output_type": "stream",
     "text": [
      "Epoch 9/30\t Time: 773.310\t Loss: 0.00001941\t R: 0.0007\n"
     ]
    },
    {
     "name": "stderr",
     "output_type": "stream",
     "text": [
      "Training Epochs:  33%|███▎      | 10/30 [2:09:19<4:18:20, 775.03s/epoch]"
     ]
    },
    {
     "name": "stdout",
     "output_type": "stream",
     "text": [
      "Epoch 10/30\t Time: 784.091\t Loss: 0.00001792\t R: 0.0029\n"
     ]
    },
    {
     "name": "stderr",
     "output_type": "stream",
     "text": [
      "Training Epochs:  37%|███▋      | 11/30 [2:22:11<4:05:07, 774.09s/epoch]"
     ]
    },
    {
     "name": "stdout",
     "output_type": "stream",
     "text": [
      "Epoch 11/30\t Time: 771.929\t Loss: 0.00009733\t R: 0.0012\n"
     ]
    },
    {
     "name": "stderr",
     "output_type": "stream",
     "text": [
      "Training Epochs:  40%|████      | 12/30 [2:35:05<3:52:11, 773.95s/epoch]"
     ]
    },
    {
     "name": "stdout",
     "output_type": "stream",
     "text": [
      "Epoch 12/30\t Time: 773.624\t Loss: 0.00000337\t R: 0.0004\n"
     ]
    },
    {
     "name": "stderr",
     "output_type": "stream",
     "text": [
      "Training Epochs:  43%|████▎     | 13/30 [2:48:08<3:40:04, 776.73s/epoch]"
     ]
    },
    {
     "name": "stdout",
     "output_type": "stream",
     "text": [
      "Epoch 13/30\t Time: 783.133\t Loss: 0.00000637\t R: 0.0003\n"
     ]
    },
    {
     "name": "stderr",
     "output_type": "stream",
     "text": [
      "Training Epochs:  47%|████▋     | 14/30 [3:00:26<3:24:03, 765.22s/epoch]"
     ]
    },
    {
     "name": "stdout",
     "output_type": "stream",
     "text": [
      "Epoch 14/30\t Time: 738.601\t Loss: 0.00000396\t R: 0.0005\n"
     ]
    },
    {
     "name": "stderr",
     "output_type": "stream",
     "text": [
      "Training Epochs:  50%|█████     | 15/30 [3:13:26<3:12:21, 769.44s/epoch]"
     ]
    },
    {
     "name": "stdout",
     "output_type": "stream",
     "text": [
      "Epoch 15/30\t Time: 779.230\t Loss: 0.00002562\t R: 0.0007\n"
     ]
    },
    {
     "name": "stderr",
     "output_type": "stream",
     "text": [
      "Training Epochs:  53%|█████▎    | 16/30 [3:26:26<3:00:18, 772.78s/epoch]"
     ]
    },
    {
     "name": "stdout",
     "output_type": "stream",
     "text": [
      "Epoch 16/30\t Time: 780.533\t Loss: 0.00015469\t R: 0.0017\n"
     ]
    },
    {
     "name": "stderr",
     "output_type": "stream",
     "text": [
      "Training Epochs:  57%|█████▋    | 17/30 [3:39:18<2:47:21, 772.43s/epoch]"
     ]
    },
    {
     "name": "stdout",
     "output_type": "stream",
     "text": [
      "Epoch 17/30\t Time: 771.601\t Loss: 0.00000620\t R: 0.0003\n"
     ]
    },
    {
     "name": "stderr",
     "output_type": "stream",
     "text": [
      "Training Epochs:  60%|██████    | 18/30 [3:52:30<2:35:42, 778.52s/epoch]"
     ]
    },
    {
     "name": "stdout",
     "output_type": "stream",
     "text": [
      "Epoch 18/30\t Time: 792.697\t Loss: 0.00000506\t R: 0.0006\n"
     ]
    },
    {
     "name": "stderr",
     "output_type": "stream",
     "text": [
      "Training Epochs:  63%|██████▎   | 19/30 [4:05:13<2:21:51, 773.75s/epoch]"
     ]
    },
    {
     "name": "stdout",
     "output_type": "stream",
     "text": [
      "Epoch 19/30\t Time: 762.640\t Loss: 0.00002259\t R: 0.0012\n"
     ]
    },
    {
     "name": "stderr",
     "output_type": "stream",
     "text": [
      "Training Epochs:  67%|██████▋   | 20/30 [4:17:57<2:08:29, 770.92s/epoch]"
     ]
    },
    {
     "name": "stdout",
     "output_type": "stream",
     "text": [
      "Epoch 20/30\t Time: 764.307\t Loss: 0.00000500\t R: 0.0007\n"
     ]
    },
    {
     "name": "stderr",
     "output_type": "stream",
     "text": [
      "Training Epochs:  70%|███████   | 21/30 [4:30:27<1:54:41, 764.56s/epoch]"
     ]
    },
    {
     "name": "stdout",
     "output_type": "stream",
     "text": [
      "Epoch 21/30\t Time: 749.723\t Loss: 0.00000794\t R: 0.0027\n"
     ]
    },
    {
     "name": "stderr",
     "output_type": "stream",
     "text": [
      "Training Epochs:  73%|███████▎  | 22/30 [4:43:09<1:41:51, 763.89s/epoch]"
     ]
    },
    {
     "name": "stdout",
     "output_type": "stream",
     "text": [
      "Epoch 22/30\t Time: 762.318\t Loss: 0.00000583\t R: 0.0007\n"
     ]
    },
    {
     "name": "stderr",
     "output_type": "stream",
     "text": [
      "Training Epochs:  77%|███████▋  | 23/30 [4:56:09<1:29:39, 768.44s/epoch]"
     ]
    },
    {
     "name": "stdout",
     "output_type": "stream",
     "text": [
      "Epoch 23/30\t Time: 779.046\t Loss: 0.00000253\t R: 0.0004\n"
     ]
    },
    {
     "name": "stderr",
     "output_type": "stream",
     "text": [
      "Training Epochs:  80%|████████  | 24/30 [5:08:42<1:16:23, 763.99s/epoch]"
     ]
    },
    {
     "name": "stdout",
     "output_type": "stream",
     "text": [
      "Epoch 24/30\t Time: 753.598\t Loss: 0.00001024\t R: 0.0010\n"
     ]
    },
    {
     "name": "stderr",
     "output_type": "stream",
     "text": [
      "Training Epochs:  83%|████████▎ | 25/30 [5:21:54<1:04:22, 772.43s/epoch]"
     ]
    },
    {
     "name": "stdout",
     "output_type": "stream",
     "text": [
      "Epoch 25/30\t Time: 792.126\t Loss: 0.00000565\t R: 0.0009\n"
     ]
    },
    {
     "name": "stderr",
     "output_type": "stream",
     "text": [
      "Training Epochs:  87%|████████▋ | 26/30 [5:34:53<51:37, 774.36s/epoch]  "
     ]
    },
    {
     "name": "stdout",
     "output_type": "stream",
     "text": [
      "Epoch 26/30\t Time: 778.873\t Loss: 0.00000813\t R: 0.0006\n"
     ]
    },
    {
     "name": "stderr",
     "output_type": "stream",
     "text": [
      "Training Epochs:  90%|█████████ | 27/30 [5:47:19<38:17, 765.73s/epoch]"
     ]
    },
    {
     "name": "stdout",
     "output_type": "stream",
     "text": [
      "Epoch 27/30\t Time: 745.578\t Loss: 0.00004043\t R: 0.0045\n"
     ]
    },
    {
     "name": "stderr",
     "output_type": "stream",
     "text": [
      "Training Epochs:  93%|█████████▎| 28/30 [5:59:57<25:26, 763.43s/epoch]"
     ]
    },
    {
     "name": "stdout",
     "output_type": "stream",
     "text": [
      "Epoch 28/30\t Time: 758.052\t Loss: 0.00003694\t R: 0.0039\n"
     ]
    },
    {
     "name": "stderr",
     "output_type": "stream",
     "text": [
      "Training Epochs:  97%|█████████▋| 29/30 [6:12:33<12:41, 761.27s/epoch]"
     ]
    },
    {
     "name": "stdout",
     "output_type": "stream",
     "text": [
      "Epoch 29/30\t Time: 756.217\t Loss: 0.00027341\t R: 0.0043\n"
     ]
    },
    {
     "name": "stderr",
     "output_type": "stream",
     "text": [
      "Training Epochs: 100%|██████████| 30/30 [6:25:19<00:00, 770.63s/epoch]\n"
     ]
    },
    {
     "name": "stdout",
     "output_type": "stream",
     "text": [
      "Epoch 30/30\t Time: 765.499\t Loss: 0.00007538\t R: 0.0013\n",
      "INFO: Training time: 23119.025\n",
      "[INFO] Starting testing...\n",
      "INFO: Starting testing...\n",
      "INFO: Testing time: 226.330\n",
      "DEBUG: Labels shape: (5000,), Scores shape: (5000,), Labels unique: (array([0, 1]), array([2500, 2500]))\n",
      "INFO: Test set AUC: 50.95%\n",
      "INFO: Accuracy: 0.5068, Precision: 0.5340, Recall: 0.1068, F1-Score: 0.1780\n",
      "[INFO] Saved model to deeptralog_model.pt and results to deeptralog_results.json\n",
      "[INFO] Results: {'train_time': 23119.02492403984, 'test_auc': 0.509522, 'test_time': 226.33049750328064, 'test_scores': None, 'accuracy': 0.5068, 'precision': 0.534, 'recall': 0.1068, 'f1_score': 0.178}\n"
     ]
    }
   ],
   "source": [
    "# Initialize model and DeepSVDD\n",
    "opt = Opt(n_edge_types=n_edge_types)\n",
    "net = GGNN(opt).to(opt.device)\n",
    "deep_svdd = DeepSVDD(opt)\n",
    "deep_svdd.set_network(net)\n",
    "\n",
    "# Train\n",
    "print(\"[INFO] Starting training...\")\n",
    "deep_svdd.train(my_dataset, optimizer_name='adam', lr=opt.lr, n_epochs=opt.n_epochs, \n",
    "                batch_size=opt.batch_size, weight_decay=opt.weight_decay, device=opt.device)\n",
    "\n",
    "# Test\n",
    "print(\"[INFO] Starting testing...\")\n",
    "y_pred, f1, precision, recall, accuracy, scores = deep_svdd.test(my_dataset, device=opt.device)\n",
    "\n",
    "# Save model and results\n",
    "deep_svdd.save_model(\"deeptralog_model.pt\")\n",
    "deep_svdd.save_results(\"deeptralog_results.json\")\n",
    "print(\"[INFO] Saved model to deeptralog_model.pt and results to deeptralog_results.json\")\n",
    "print(f\"[INFO] Results: {deep_svdd.results}\")"
   ]
  },
  {
   "cell_type": "code",
   "execution_count": 16,
   "id": "915e9833",
   "metadata": {
    "execution": {
     "iopub.execute_input": "2025-07-11T21:00:26.903457Z",
     "iopub.status.busy": "2025-07-11T21:00:26.902958Z",
     "iopub.status.idle": "2025-07-11T21:00:26.912401Z",
     "shell.execute_reply": "2025-07-11T21:00:26.911364Z"
    },
    "papermill": {
     "duration": 0.050778,
     "end_time": "2025-07-11T21:00:26.913845",
     "exception": false,
     "start_time": "2025-07-11T21:00:26.863067",
     "status": "completed"
    },
    "tags": []
   },
   "outputs": [
    {
     "name": "stdout",
     "output_type": "stream",
     "text": [
      "Mean score anomaly: 2.0238151509602174e-06\n",
      "Mean score normal: 1.984756775709684e-06\n"
     ]
    }
   ],
   "source": [
    "import numpy as np\n",
    "\n",
    "y_true = np.array(test_labels)\n",
    "scores = np.array(scores)\n",
    "\n",
    "# Vérifier les scores pour les anomalies\n",
    "print(\"Mean score anomaly:\", np.mean(scores[y_true == 1]))\n",
    "print(\"Mean score normal:\", np.mean(scores[y_true == 0]))\n"
   ]
  },
  {
   "cell_type": "code",
   "execution_count": 17,
   "id": "b8eb3942",
   "metadata": {
    "execution": {
     "iopub.execute_input": "2025-07-11T21:00:26.987689Z",
     "iopub.status.busy": "2025-07-11T21:00:26.986883Z",
     "iopub.status.idle": "2025-07-11T21:00:28.021204Z",
     "shell.execute_reply": "2025-07-11T21:00:28.020112Z"
    },
    "papermill": {
     "duration": 1.073773,
     "end_time": "2025-07-11T21:00:28.023039",
     "exception": false,
     "start_time": "2025-07-11T21:00:26.949266",
     "status": "completed"
    },
    "tags": []
   },
   "outputs": [
    {
     "name": "stdout",
     "output_type": "stream",
     "text": [
      "[INFO] Sample predictions vs. true labels (first 10 test graphs):\n",
      "[INFO] Graph 0: True Label=0 (0=Normal, 1=Anomaly), Predicted Label=0, Score=0.0000\n",
      "[INFO] Graph 1: True Label=0 (0=Normal, 1=Anomaly), Predicted Label=0, Score=0.0000\n",
      "[INFO] Graph 2: True Label=0 (0=Normal, 1=Anomaly), Predicted Label=0, Score=0.0000\n",
      "[INFO] Graph 3: True Label=0 (0=Normal, 1=Anomaly), Predicted Label=0, Score=0.0000\n",
      "[INFO] Graph 4: True Label=0 (0=Normal, 1=Anomaly), Predicted Label=0, Score=0.0000\n",
      "[INFO] Graph 5: True Label=0 (0=Normal, 1=Anomaly), Predicted Label=0, Score=0.0000\n",
      "[INFO] Graph 6: True Label=0 (0=Normal, 1=Anomaly), Predicted Label=0, Score=0.0000\n",
      "[INFO] Graph 7: True Label=0 (0=Normal, 1=Anomaly), Predicted Label=0, Score=0.0000\n",
      "[INFO] Graph 8: True Label=0 (0=Normal, 1=Anomaly), Predicted Label=0, Score=0.0000\n",
      "[INFO] Graph 9: True Label=0 (0=Normal, 1=Anomaly), Predicted Label=0, Score=0.0000\n"
     ]
    },
    {
     "data": {
      "image/png": "[encoded data removed]",
      "text/plain": [
       "<Figure size 1000x600 with 1 Axes>"
      ]
     },
     "metadata": {},
     "output_type": "display_data"
    },
    {
     "data": {
      "image/png": "[encoded data removed]",
      "text/plain": [
       "<Figure size 1000x600 with 1 Axes>"
      ]
     },
     "metadata": {},
     "output_type": "display_data"
    }
   ],
   "source": [
    "# Display predictions vs. true labels (first 10 test graphs)\n",
    "print(\"[INFO] Sample predictions vs. true labels (first 10 test graphs):\")\n",
    "for i in range(min(10, len(test_set))):\n",
    "    true_label = test_labels[i]\n",
    "    pred_label = y_pred[i]\n",
    "    score = scores[i]\n",
    "    print(f\"[INFO] Graph {i}: True Label={true_label} (0=Normal, 1=Anomaly), Predicted Label={pred_label}, Score={score:.4f}\")\n",
    "\n",
    "# Visualize distance scores\n",
    "plt.figure(figsize=(10, 6))\n",
    "normal_scores = [s for s, l in zip(scores, test_labels) if l == 0]\n",
    "anomaly_scores = [s for s, l in zip(scores, test_labels) if l == 1]\n",
    "plt.hist(normal_scores, bins=20, alpha=0.5, label='Normal (y=0)', color='blue')\n",
    "plt.hist(anomaly_scores, bins=20, alpha=0.5, label='Anomaly (y=1)', color='red')\n",
    "plt.xlabel('Distance Scores')\n",
    "plt.ylabel('Frequency')\n",
    "plt.title('Distribution of Distance Scores (Normal vs Anomaly)')\n",
    "plt.legend()\n",
    "plt.savefig(\"distance_scores.png\")\n",
    "plt.show()\n",
    "\n",
    "# Plot ROC curve\n",
    "fpr, tpr, _ = roc_curve(test_labels, scores)\n",
    "plt.figure(figsize=(10, 6))\n",
    "plt.plot(fpr, tpr, label=f'ROC Curve (AUC = {deep_svdd.results[\"test_auc\"]:.2f})')\n",
    "plt.plot([0, 1], [0, 1], 'k--')\n",
    "plt.xlabel('False Positive Rate')\n",
    "plt.ylabel('True Positive Rate')\n",
    "plt.title('ROC Curve')\n",
    "plt.legend()\n",
    "plt.savefig(\"roc_curve.png\")\n",
    "plt.show()\n"
   ]
  },
  {
   "cell_type": "code",
   "execution_count": 18,
   "id": "9e942942",
   "metadata": {
    "execution": {
     "iopub.execute_input": "2025-07-11T21:00:28.101501Z",
     "iopub.status.busy": "2025-07-11T21:00:28.100918Z",
     "iopub.status.idle": "2025-07-11T21:00:28.105676Z",
     "shell.execute_reply": "2025-07-11T21:00:28.104664Z"
    },
    "papermill": {
     "duration": 0.046377,
     "end_time": "2025-07-11T21:00:28.107287",
     "exception": false,
     "start_time": "2025-07-11T21:00:28.060910",
     "status": "completed"
    },
    "tags": []
   },
   "outputs": [],
   "source": [
    "# start_idx = 2500\n",
    "# end_idx = min(3000, len(test_set))\n",
    "\n",
    "# for i in range(start_idx, end_idx):\n",
    "#     true_label = test_labels[i]\n",
    "#     pred_label = y_pred[i]\n",
    "#     score = scores[i]\n",
    "#     print(f\"[INFO] Graph {i}: True Label={true_label} (0=Normal, 1=Anomaly), Predicted Label={pred_label}, Score={score:.4f}\")"
   ]
  },
  {
   "cell_type": "code",
   "execution_count": 19,
   "id": "b0caa676",
   "metadata": {
    "execution": {
     "iopub.execute_input": "2025-07-11T21:00:28.185616Z",
     "iopub.status.busy": "2025-07-11T21:00:28.185240Z",
     "iopub.status.idle": "2025-07-11T21:00:28.191881Z",
     "shell.execute_reply": "2025-07-11T21:00:28.191024Z"
    },
    "papermill": {
     "duration": 0.047611,
     "end_time": "2025-07-11T21:00:28.193576",
     "exception": false,
     "start_time": "2025-07-11T21:00:28.145965",
     "status": "completed"
    },
    "tags": []
   },
   "outputs": [],
   "source": [
    "# if __name__ == \"__main__\":\n",
    "#     # Set random seed\n",
    "#     torch.manual_seed(42)\n",
    "#     np.random.seed(42)\n",
    "\n",
    "#     # Load dataset\n",
    "#     data_dir = \"/kaggle/input/graphdata/graph_data/raw\"\n",
    "#     dataset, n_edge_types = load_all_graphs(data_dir)\n",
    "#     print(f\"[INFO] Loaded {len(dataset)} graphs with {n_edge_types} edge types.\")\n",
    "\n",
    "#     # Split dataset\n",
    "#     normal_graphs = [d for d in dataset if d.y.item() == 0]\n",
    "#     anomaly_graphs = [d for d in dataset if d.y.item() == 1]\n",
    "#     train_size = int(0.8 * len(normal_graphs))\n",
    "#     test_size = len(normal_graphs) - train_size\n",
    "#     train_set, test_normal = random_split(normal_graphs, [train_size, test_size])\n",
    "#     test_set = list(test_normal) + anomaly_graphs\n",
    "#     my_dataset = MyGraphDataset(train_set, test_set)\n",
    "\n",
    "#     # Log dataset details\n",
    "#     print(f\"[INFO] Train set size: {len(train_set)}, Test set size: {len(test_set)}\")\n",
    "#     train_labels = [d.y.item() for d in train_set]\n",
    "#     train_node_counts = [d.x.shape[0] for d in train_set]\n",
    "#     print(f\"[INFO] Train set labels: {np.unique(train_labels, return_counts=True)}\")\n",
    "#     print(f\"[INFO] Train set node counts (first 10): {train_node_counts[:10]}\")\n",
    "#     test_labels = [d.y.item() for d in test_set]\n",
    "#     test_node_counts = [d.x.shape[0] for d in test_set]\n",
    "#     print(f\"[INFO] Test set labels: {np.unique(test_labels, return_counts=True)}\")\n",
    "#     print(f\"[INFO] Test set node counts (first 10): {test_node_counts[:10]}\")\n",
    "\n",
    "#     # Check for class balance\n",
    "#     if len(np.unique(test_labels)) < 2:\n",
    "#         print(\"[ERROR] Test set has only one class. AUC will fail.\")\n",
    "#         raise ValueError(\"Test set must contain both normal (y=0) and anomaly (y=1) graphs\")\n",
    "\n",
    "#     # Initialize model and DeepSVDD\n",
    "#     opt = Opt(n_edge_types=n_edge_types)\n",
    "#     net = GGNN(opt).to(opt.device)\n",
    "#     deep_svdd = DeepSVDD(opt)\n",
    "#     deep_svdd.set_network(net)\n",
    "\n",
    "#     # Train\n",
    "#     print(\"[INFO] Starting training...\")\n",
    "#     deep_svdd.train(my_dataset, optimizer_name='adam', lr=opt.lr, n_epochs=opt.n_epochs, \n",
    "#                     batch_size=opt.batch_size, weight_decay=opt.weight_decay, device=opt.device)\n",
    "\n",
    "#     # Test\n",
    "#     print(\"[INFO] Starting testing...\")\n",
    "#     y_pred, f1, precision, recall, accuracy, scores = deep_svdd.test(my_dataset, device=opt.device)\n",
    "\n",
    "#     # Save model and results\n",
    "#     deep_svdd.save_model(\"deeptralog_model.pt\")\n",
    "#     deep_svdd.save_results(\"deeptralog_results.json\")\n",
    "#     print(\"[INFO] Saved model to deeptralog_model.pt and results to deeptralog_results.json\")\n",
    "#     print(f\"[INFO] Results: {deep_svdd.results}\")\n",
    "\n",
    "#     # Display predictions vs. true labels (first 10 test graphs)\n",
    "#     print(\"[INFO] Sample predictions vs. true labels (first 10 test graphs):\")\n",
    "#     for i in range(min(10, len(test_set))):\n",
    "#         true_label = test_labels[i]\n",
    "#         pred_label = y_pred[i]\n",
    "#         score = scores[i]\n",
    "#         print(f\"[INFO] Graph {i}: True Label={true_label} (0=Normal, 1=Anomaly), Predicted Label={pred_label}, Score={score:.4f}\")\n",
    "\n",
    "#     # Visualize distance scores\n",
    "#     plt.figure(figsize=(10, 6))\n",
    "#     normal_scores = [s for s, l in zip(scores, test_labels) if l == 0]\n",
    "#     anomaly_scores = [s for s, l in zip(scores, test_labels) if l == 1]\n",
    "#     plt.hist(normal_scores, bins=20, alpha=0.5, label='Normal (y=0)', color='blue')\n",
    "#     plt.hist(anomaly_scores, bins=20, alpha=0.5, label='Anomaly (y=1)', color='red')\n",
    "#     plt.xlabel('Distance Scores')\n",
    "#     plt.ylabel('Frequency')\n",
    "#     plt.title('Distribution of Distance Scores (Normal vs Anomaly)')\n",
    "#     plt.legend()\n",
    "#     plt.savefig(\"distance_scores.png\")\n",
    "#     plt.show()\n",
    "\n",
    "#     # Plot ROC curve\n",
    "#     fpr, tpr, _ = roc_curve(test_labels, scores)\n",
    "#     plt.figure(figsize=(10, 6))\n",
    "#     plt.plot(fpr, tpr, label=f'ROC Curve (AUC = {deep_svdd.results[\"test_auc\"]:.2f})')\n",
    "#     plt.plot([0, 1], [0, 1], 'k--')\n",
    "#     plt.xlabel('False Positive Rate')\n",
    "#     plt.ylabel('True Positive Rate')\n",
    "#     plt.title('ROC Curve')\n",
    "#     plt.legend()\n",
    "#     plt.savefig(\"roc_curve.png\")\n",
    "#     plt.show()\n"
   ]
  },
  {
   "cell_type": "code",
   "execution_count": 20,
   "id": "a7e0fbbe",
   "metadata": {
    "execution": {
     "iopub.execute_input": "2025-07-11T21:00:28.270351Z",
     "iopub.status.busy": "2025-07-11T21:00:28.269985Z",
     "iopub.status.idle": "2025-07-11T21:00:28.281684Z",
     "shell.execute_reply": "2025-07-11T21:00:28.280581Z"
    },
    "papermill": {
     "duration": 0.052657,
     "end_time": "2025-07-11T21:00:28.283392",
     "exception": false,
     "start_time": "2025-07-11T21:00:28.230735",
     "status": "completed"
    },
    "tags": []
   },
   "outputs": [],
   "source": [
    "# # Hypersphere Visualization (with perplexity fix and error_type handling)\n",
    "# def visualize_hypersphere(deep_svdd, dataset, model_path=\"deeptralog_model.pt\", results_path=\"deeptralog_results.json\", \n",
    "#                          n_samples=1000, save_plot=\"hypersphere.png\"):\n",
    "#     logger.info('Starting hypersphere visualization...')\n",
    "#     opt = deep_svdd.opt\n",
    "#     device = opt.device\n",
    "\n",
    "#     # Load model\n",
    "#     deep_svdd.load_model(model_path)\n",
    "#     net = deep_svdd.net.to(device)\n",
    "#     net.eval()\n",
    "\n",
    "#     # Load results\n",
    "#     with open(results_path, 'r') as f:\n",
    "#         results = json.load(f)\n",
    "#     logger.info(f\"Loaded results: AUC={results['test_auc']:.4f}, Accuracy={results['accuracy']:.4f}\")\n",
    "\n",
    "#     # Prepare test subset\n",
    "#     test_subset = dataset.test_set[:min(n_samples, len(dataset.test_set))]\n",
    "#     test_loader = DataLoader(test_subset, batch_size=opt.batch_size, shuffle=False)\n",
    "\n",
    "#     # Collect embeddings, labels, error types\n",
    "#     embeddings = []\n",
    "#     labels = []\n",
    "#     error_types = []\n",
    "#     with torch.no_grad():\n",
    "#         for batch in test_loader:\n",
    "#             batch = batch.to(device)\n",
    "#             output = net(batch)\n",
    "#             embeddings.append(output.cpu().numpy())\n",
    "#             labels.append(batch.y.cpu().numpy())\n",
    "#             # Handle case where error_type may not exist\n",
    "#             if hasattr(batch, 'error_type'):\n",
    "#                 error_types.extend(batch.error_type)\n",
    "#             else:\n",
    "#                 error_types.extend([None] * batch.num_graphs)\n",
    "\n",
    "#     embeddings = np.concatenate(embeddings, axis=0)\n",
    "#     labels = np.concatenate(labels, axis=0)\n",
    "#     logger.info(f\"Collected {len(embeddings)} embeddings with shape {embeddings.shape}\")\n",
    "\n",
    "#     # t-SNE for 2D projection with dynamic perplexity\n",
    "#     logger.info('Running t-SNE...')\n",
    "#     perplexity = min(30, max(5, len(embeddings) - 1))  # Ensure perplexity < n_samples\n",
    "#     tsne = TSNE(n_components=2, random_state=42, perplexity=perplexity)\n",
    "#     embeddings_2d = tsne.fit_transform(embeddings)\n",
    "\n",
    "#     # Project center\n",
    "#     c = np.array(deep_svdd.c)\n",
    "#     c_2d = tsne.fit_transform(c.reshape(1, -1)).flatten()\n",
    "#     R = deep_svdd.R\n",
    "\n",
    "#     # Plot\n",
    "#     plt.figure(figsize=(10, 8))\n",
    "#     normal_idx = labels == 0\n",
    "#     anomaly_idx = labels == 1\n",
    "\n",
    "#     plt.scatter(embeddings_2d[normal_idx, 0], embeddings_2d[normal_idx, 1], \n",
    "#                 c='blue', label='Normal', alpha=0.6, s=50)\n",
    "#     plt.scatter(embeddings_2d[anomaly_idx, 0], embeddings_2d[anomaly_idx, 1], \n",
    "#                 c='red', label='Anomalous', alpha=0.6, s=50)\n",
    "\n",
    "#     circle = plt.Circle(c_2d, R, color='green', fill=False, linewidth=2, label='Hypersphere')\n",
    "#     plt.gca().add_artist(circle)\n",
    "#     plt.scatter(c_2d[0], c_2d[1], c='black', marker='x', s=200, label='Center')\n",
    "\n",
    "#     plt.title(f'Deep SVDD Hypersphere (AUC: {results[\"test_auc\"]:.4f})')\n",
    "#     plt.xlabel('t-SNE Component 1')\n",
    "#     plt.ylabel('t-SNE Component 2')\n",
    "#     plt.legend()\n",
    "#     plt.grid(True)\n",
    "#     plt.savefig(save_plot)\n",
    "#     plt.close()\n",
    "#     logger.info(f\"Saved plot to {save_plot}\")\n",
    "\n",
    "#     # Validate separation\n",
    "#     normal_distances = np.sqrt(np.sum((embeddings_2d[normal_idx] - c_2d) ** 2, axis=1))\n",
    "#     anomaly_distances = np.sqrt(np.sum((embeddings_2d[anomaly_idx] - c_2d) ** 2, axis=1))\n",
    "#     normal_inside = np.mean(normal_distances <= R) if len(normal_distances) > 0 else 0\n",
    "#     anomaly_outside = np.mean(anomaly_distances > R) if len(anomaly_distances) > 0 else 0\n",
    "#     logger.info(f\"Normal points inside hypersphere: {normal_inside:.2%}\")\n",
    "#     logger.info(f\"Anomalous points outside hypersphere: {anomaly_outside:.2%}\")\n",
    "\n",
    "# # Configuration\n",
    "# class Opt:\n",
    "#     def __init__(self, n_edge_types=4):\n",
    "#         self.state_dim = 32\n",
    "#         self.annotation_dim = 7\n",
    "#         self.n_edge_types = n_edge_types\n",
    "#         self.n_steps = 5\n",
    "#         self.device = 'cuda' if torch.cuda.is_available() else 'cpu'\n",
    "#         self.nu = 0.1\n",
    "#         self.lr = 0.001\n",
    "#         self.n_epochs = 10  # Increased for better training\n",
    "#         self.batch_size = 10  # Matches Cell 4 for debugging\n",
    "#         self.weight_decay = 1e-6\n",
    "\n",
    "# # Initialize model and DeepSVDD\n",
    "# opt = Opt(n_edge_types=4)\n",
    "# net = GGNN(opt).to(opt.device)\n",
    "# deep_svdd = DeepSVDD(opt)\n",
    "# deep_svdd.set_network(net)\n",
    "\n",
    "# # Debug dataset\n",
    "# logger.info(f\"Original train_set size: {len(my_dataset.train_set)}, test_set size: {len(my_dataset.test_set)}\")\n",
    "# train_labels = [d.y.item() for d in my_dataset.train_set]\n",
    "# train_node_counts = [d.x.shape[0] for d in my_dataset.train_set]\n",
    "# logger.info(f\"Train set labels: {np.unique(train_labels, return_counts=True)}\")\n",
    "# logger.info(f\"Train set node counts: {train_node_counts[:10]}... (first 10)\")\n",
    "# test_labels = [d.y.item() for d in my_dataset.test_set]\n",
    "# test_node_counts = [d.x.shape[0] for d in my_dataset.test_set]\n",
    "# logger.info(f\"Original test set labels: {np.unique(test_labels, return_counts=True)}\")\n",
    "# logger.info(f\"Original test set node counts: {test_node_counts}\")\n",
    "\n",
    "# # Create balanced train and test subsets\n",
    "# train_subset = Subset(my_dataset.train_set, list(range(10)))\n",
    "# my_dataset.train_set = train_subset\n",
    "\n",
    "# # Ensure balanced test subset (5 normal, 5 anomaly)\n",
    "# normal_graphs = [d for d in my_dataset.train_set if d.y.item() == 0]\n",
    "# anomaly_graphs = [d for d in my_dataset.test_set if d.y.item() == 1]\n",
    "# if not normal_graphs:\n",
    "#     normal_graphs = [d for d in dataset if d.y.item() == 0]\n",
    "# if not anomaly_graphs:\n",
    "#     anomaly_graphs = [d for d in dataset if d.y.item() == 1]\n",
    "\n",
    "# if len(normal_graphs) < 5 or len(anomaly_graphs) < 5:\n",
    "#     logger.warning(f\"Insufficient normal ({len(normal_graphs)}) or anomaly ({len(anomaly_graphs)}) graphs for balanced test set.\")\n",
    "#     test_subset = my_dataset.test_set[:10]\n",
    "# else:\n",
    "#     test_subset = normal_graphs[:5] + anomaly_graphs[:5]\n",
    "# my_dataset.test_set = test_subset\n",
    "\n",
    "# # Verify subsets\n",
    "# train_labels = [d.y.item() for d in train_subset]\n",
    "# train_node_counts = [d.x.shape[0] for d in train_subset]\n",
    "# logger.info(f\"Train subset labels: {np.unique(train_labels, return_counts=True)}\")\n",
    "# logger.info(f\"Train subset node counts: {train_node_counts}\")\n",
    "# test_labels = [d.y.item() for d in test_subset]\n",
    "# test_node_counts = [d.x.shape[0] for d in test_subset]\n",
    "# logger.info(f\"Test subset labels: {np.unique(test_labels, return_counts=True)}\")\n",
    "# logger.info(f\"Test subset node counts: {test_node_counts}\")\n",
    "\n",
    "# if len(np.unique(test_labels)) < 2:\n",
    "#     logger.error(\"Test subset has only one class. AUC will fail. Please check dataset labels.\")\n",
    "#     raise ValueError(\"Test subset must contain both normal (y=0) and anomaly (y=1) graphs\")\n",
    "\n",
    "# # Train and test\n",
    "# logger.info(\"Starting training...\")\n",
    "# deep_svdd.train(my_dataset, optimizer_name='adam', lr=opt.lr, n_epochs=opt.n_epochs, \n",
    "#                 batch_size=opt.batch_size, weight_decay=opt.weight_decay, device=opt.device)\n",
    "\n",
    "# logger.info(\"Starting testing...\")\n",
    "# y_pred, f1, precision, recall, accuracy, scores = deep_svdd.test(my_dataset, device=opt.device)\n",
    "\n",
    "# # Save model and results\n",
    "# deep_svdd.save_model(\"deeptralog_model.pt\")\n",
    "# deep_svdd.save_results(\"deeptralog_results.json\")\n",
    "# logger.info(f\"Saved model to deeptralog_model.pt and results to deeptralog_results.json\")\n",
    "# logger.info(f\"Results: {deep_svdd.results}\")\n",
    "\n",
    "# # Visualize distance scores\n",
    "# plt.figure(figsize=(10, 6))\n",
    "# normal_scores = [s for s, l in zip(scores, test_labels) if l == 0]\n",
    "# anomaly_scores = [s for s, l in zip(scores, test_labels) if l == 1]\n",
    "# plt.hist(normal_scores, bins=20, alpha=0.5, label='Normal (y=0)', color='blue')\n",
    "# plt.hist(anomaly_scores, bins=20, alpha=0.5, label='Anomaly (y=1)', color='red')\n",
    "# plt.xlabel('Distance Scores')\n",
    "# plt.ylabel('Frequency')\n",
    "# plt.title('Distribution of Distance Scores (Normal vs Anomaly)')\n",
    "# plt.legend()\n",
    "# plt.savefig(\"distance_scores.png\")\n",
    "# plt.show()\n",
    "\n",
    "# # Plot ROC curve\n",
    "# fpr, tpr, _ = roc_curve(test_labels, scores)\n",
    "# plt.figure(figsize=(10, 6))\n",
    "# plt.plot(fpr, tpr, label=f'ROC Curve (AUC = {deep_svdd.results[\"test_auc\"]:.2f})')\n",
    "# plt.plot([0, 1], [0, 1], 'k--')\n",
    "# plt.xlabel('False Positive Rate')\n",
    "# plt.ylabel('True Positive Rate')\n",
    "# plt.title('ROC Curve')\n",
    "# plt.legend()\n",
    "# plt.savefig(\"roc_curve.png\")\n",
    "# plt.show()\n",
    "\n",
    "# # Hypersphere visualization\n",
    "# visualize_hypersphere(deep_svdd, my_dataset, model_path=\"deeptralog_model.pt\", \n",
    "#                       results_path=\"deeptralog_results.json\", save_plot=\"hypersphere.png\")"
   ]
  },
  {
   "cell_type": "code",
   "execution_count": 21,
   "id": "7afa8929",
   "metadata": {
    "execution": {
     "iopub.execute_input": "2025-07-11T21:00:28.359723Z",
     "iopub.status.busy": "2025-07-11T21:00:28.359343Z",
     "iopub.status.idle": "2025-07-11T21:00:28.363760Z",
     "shell.execute_reply": "2025-07-11T21:00:28.362737Z"
    },
    "papermill": {
     "duration": 0.044241,
     "end_time": "2025-07-11T21:00:28.365136",
     "exception": false,
     "start_time": "2025-07-11T21:00:28.320895",
     "status": "completed"
    },
    "tags": []
   },
   "outputs": [],
   "source": [
    "# # Hypersphere visualization\n",
    "# visualize_hypersphere(deep_svdd, my_dataset, model_path=\"deeptralog_model.pt\", \n",
    "#                       results_path=\"deeptralog_results.json\", save_plot=\"hypersphere.png\")"
   ]
  },
  {
   "cell_type": "code",
   "execution_count": null,
   "id": "55bc202a",
   "metadata": {
    "papermill": {
     "duration": 0.036896,
     "end_time": "2025-07-11T21:00:28.439194",
     "exception": false,
     "start_time": "2025-07-11T21:00:28.402298",
     "status": "completed"
    },
    "tags": []
   },
   "outputs": [],
   "source": []
  }
 ],
 "metadata": {
  "kaggle": {
   "accelerator": "none",
   "dataSources": [
    {
     "datasetId": 7806241,
     "sourceId": 12380087,
     "sourceType": "datasetVersion"
    },
    {
     "datasetId": 7826039,
     "sourceId": 12409336,
     "sourceType": "datasetVersion"
    }
   ],
   "dockerImageVersionId": 31040,
   "isGpuEnabled": false,
   "isInternetEnabled": true,
   "language": "python",
   "sourceType": "notebook"
  },
  "kernelspec": {
   "display_name": "Python 3",
   "language": "python",
   "name": "python3"
  },
  "language_info": {
   "codemirror_mode": {
    "name": "ipython",
    "version": 3
   },
   "file_extension": ".py",
   "mimetype": "text/x-python",
   "name": "python",
   "nbconvert_exporter": "python",
   "pygments_lexer": "ipython3",
   "version": "3.11.11"
  },
  "papermill": {
   "default_parameters": {},
   "duration": 24084.817583,
   "end_time": "2025-07-11T21:00:32.126819",
   "environment_variables": {},
   "exception": null,
   "input_path": "__notebook__.ipynb",
   "output_path": "__notebook__.ipynb",
   "parameters": {},
   "start_time": "2025-07-11T14:19:07.309236",
   "version": "2.6.0"
  }
 },
 "nbformat": 4,
 "nbformat_minor": 5
}
