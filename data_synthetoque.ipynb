{
 "cells": [
  {
   "cell_type": "code",
   "execution_count": null,
   "id": "580645d2",
   "metadata": {},
   "outputs": [
    {
     "name": "stdout",
     "output_type": "stream",
     "text": [
      "200 graphes synchronisés générés dans synthetic_traces_sync.jsons\n"
     ]
    }
   ],
   "source": [
    "import json\n",
    "import uuid\n",
    "import random\n",
    "import pandas as pd\n",
    "\n",
    "# Charger les métriques\n",
    "df_metrics = pd.read_csv(\"sample-metrics-200.csv\")  # <- change le nom si besoin\n",
    "\n",
    "# Fonctions de génération\n",
    "def generate_edge_index(num_edges, num_nodes):\n",
    "    return [[random.randint(0, num_nodes - 1), random.randint(0, num_nodes - 1)] for _ in range(num_edges)]\n",
    "\n",
    "def generate_edge_attr(num_edges):\n",
    "    return [random.choice([0, 1, 2]) for _ in range(num_edges)]\n",
    "\n",
    "def generate_node_info(num_nodes):\n",
    "    node_info = []\n",
    "    for _ in range(num_nodes):\n",
    "        feature1 = round(random.uniform(0, 1512), 1)\n",
    "        feature2 = random.randint(0, 34)\n",
    "        feature3 = random.choice([-1] + list(range(0, 35)))\n",
    "        feature4 = random.randint(0, 623)\n",
    "        feature5 = random.choice([0, 1, 2, 3, 4, 5, 6, 7])\n",
    "        feature6 = random.randint(0, 339)\n",
    "        feature7 = random.randint(24, 1669)\n",
    "        node_info.append([feature1, feature2, feature3, feature4, feature5, feature6, feature7])\n",
    "    return node_info\n",
    "\n",
    "def generate_trace_id():\n",
    "    return f\"{uuid.uuid4().hex}.{random.randint(1, 99)}.{random.randint(16000000000000000, 17000000000000000)}\"\n",
    "\n",
    "def generate_graph_object(timestamp, is_anomaly):\n",
    "    num_nodes = random.randint(10, 100)\n",
    "    num_edges = random.randint(num_nodes - 1, num_nodes * 2)\n",
    "\n",
    "    graph = {\n",
    "        \"edge_index\": generate_edge_index(num_edges, num_nodes),\n",
    "        \"edge_attr\": generate_edge_attr(num_edges),\n",
    "        \"node_info\": generate_node_info(num_nodes),\n",
    "        \"trace_id\": generate_trace_id(),\n",
    "        \"timestamp\": int(timestamp),  \n",
    "    }\n",
    "\n",
    "    if is_anomaly:\n",
    "        error_type = f\"F{random.randint(10, 99)}-{random.randint(10, 99)}\"\n",
    "        graph[\"error_trace_type\"] = error_type\n",
    "        graph[\"trace_bool\"] = False\n",
    "    else:\n",
    "        graph[\"error_trace_type\"] = \"normal\"\n",
    "        graph[\"trace_bool\"] = True\n",
    "\n",
    "    return graph\n",
    "\n",
    "output_file = \"synthetic_traces_sync.jsons\"\n",
    "\n",
    "with open(output_file, 'w') as f:\n",
    "    for _, row in df_metrics.iterrows():\n",
    "        timestamp = row['timestamp']\n",
    "        is_anomaly = row['label'] == 1.0\n",
    "        graph_obj = generate_graph_object(timestamp, is_anomaly)\n",
    "        f.write(json.dumps(graph_obj) + '\\n')\n",
    "\n",
    "print(f\"{len(df_metrics)} graphes synchronisés générés dans {output_file}\")\n"
   ]
  }
 ],
 "metadata": {
  "kernelspec": {
   "display_name": "base",
   "language": "python",
   "name": "python3"
  },
  "language_info": {
   "codemirror_mode": {
    "name": "ipython",
    "version": 3
   },
   "file_extension": ".py",
   "mimetype": "text/x-python",
   "name": "python",
   "nbconvert_exporter": "python",
   "pygments_lexer": "ipython3",
   "version": "3.12.3"
  }
 },
 "nbformat": 4,
 "nbformat_minor": 5
}
